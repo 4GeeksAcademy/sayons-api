{
    "cells": [
        {
            "cell_type": "markdown",
            "metadata": {},
            "source": [
                "# Explore here"
            ]
        },
        {
            "cell_type": "markdown",
            "metadata": {},
            "source": [
                "# APIs"
            ]
        },
        {
            "cell_type": "code",
            "execution_count": 2,
            "metadata": {},
            "outputs": [],
            "source": [
                "import os\n",
                "import pandas as pd\n",
                "import matplotlib.pyplot as plt\n",
                "import seaborn as sns\n",
                "from dotenv import load_dotenv\n",
                "import spotipy\n",
                "from spotipy.oauth2 import SpotifyClientCredentials\n"
            ]
        },
        {
            "cell_type": "markdown",
            "metadata": {},
            "source": [
                "## Obtenemos los datos de la API"
            ]
        },
        {
            "cell_type": "code",
            "execution_count": 3,
            "metadata": {},
            "outputs": [],
            "source": [
                "load_dotenv()\n",
                "\n",
                "client_id = os.environ.get(\"CLIENT_ID\")\n",
                "client_secret = os.environ.get(\"CLIENT_SECRET\")\n",
                "\n",
                "auth_manager = SpotifyClientCredentials(client_id=client_id, client_secret=client_secret)\n",
                "spotify = spotipy.Spotify(auth_manager=auth_manager)\n",
                "\n"
            ]
        },
        {
            "cell_type": "markdown",
            "metadata": {},
            "source": [
                "## Buscamos las 10 canciones más populares"
            ]
        },
        {
            "cell_type": "code",
            "execution_count": 4,
            "metadata": {},
            "outputs": [
                {
                    "name": "stdout",
                    "output_type": "stream",
                    "text": [
                        "track: Another Brick in the Wall, Pt. 2\n",
                        "popularity: 84\n",
                        "3:58\n",
                        "\n",
                        "track: Wish You Were Here\n",
                        "popularity: 84\n",
                        "5:34\n",
                        "\n",
                        "track: Comfortably Numb\n",
                        "popularity: 82\n",
                        "6:22\n",
                        "\n",
                        "track: Breathe (In the Air)\n",
                        "popularity: 80\n",
                        "2:49\n",
                        "\n",
                        "track: Time\n",
                        "popularity: 78\n",
                        "6:53\n",
                        "\n",
                        "track: Money\n",
                        "popularity: 78\n",
                        "6:22\n",
                        "\n",
                        "track: The Great Gig in the Sky\n",
                        "popularity: 77\n",
                        "4:43\n",
                        "\n",
                        "track: Hey You\n",
                        "popularity: 76\n",
                        "4:38\n",
                        "\n",
                        "track: Have a Cigar\n",
                        "popularity: 75\n",
                        "5:07\n",
                        "\n",
                        "track: Young Lust\n",
                        "popularity: 75\n",
                        "3:29\n",
                        "\n"
                    ]
                }
            ],
            "source": [
                "results = spotify.artist_top_tracks('spotify:artist:0k17h0D3J5VfsdmQ1iZtE9')\n",
                "for track in results['tracks'][:10]:\n",
                "    milisegundos = track['duration_ms']\n",
                "    total_segundos = milisegundos // 1000\n",
                "    minutos = total_segundos // 60\n",
                "    segundos = total_segundos % 60\n",
                "    print(f\"track: {track['name']}\")\n",
                "    print(f\"popularity: {track['popularity']}\")\n",
                "    print(f\"{minutos}:{segundos:02d}\")\n",
                "    print()"
            ]
        },
        {
            "cell_type": "markdown",
            "metadata": {},
            "source": [
                "## Guardamos los datos en un DataFrame"
            ]
        },
        {
            "cell_type": "code",
            "execution_count": 5,
            "metadata": {},
            "outputs": [
                {
                    "data": {
                        "text/html": [
                            "<div>\n",
                            "<style scoped>\n",
                            "    .dataframe tbody tr th:only-of-type {\n",
                            "        vertical-align: middle;\n",
                            "    }\n",
                            "\n",
                            "    .dataframe tbody tr th {\n",
                            "        vertical-align: top;\n",
                            "    }\n",
                            "\n",
                            "    .dataframe thead th {\n",
                            "        text-align: right;\n",
                            "    }\n",
                            "</style>\n",
                            "<table border=\"1\" class=\"dataframe\">\n",
                            "  <thead>\n",
                            "    <tr style=\"text-align: right;\">\n",
                            "      <th></th>\n",
                            "      <th>track</th>\n",
                            "      <th>popularity</th>\n",
                            "      <th>duration-ms</th>\n",
                            "    </tr>\n",
                            "  </thead>\n",
                            "  <tbody>\n",
                            "    <tr>\n",
                            "      <th>0</th>\n",
                            "      <td>Another Brick in the Wall, Pt. 2</td>\n",
                            "      <td>84</td>\n",
                            "      <td>238746</td>\n",
                            "    </tr>\n",
                            "    <tr>\n",
                            "      <th>1</th>\n",
                            "      <td>Wish You Were Here</td>\n",
                            "      <td>84</td>\n",
                            "      <td>334743</td>\n",
                            "    </tr>\n",
                            "    <tr>\n",
                            "      <th>2</th>\n",
                            "      <td>Comfortably Numb</td>\n",
                            "      <td>82</td>\n",
                            "      <td>382296</td>\n",
                            "    </tr>\n",
                            "    <tr>\n",
                            "      <th>3</th>\n",
                            "      <td>Breathe (In the Air)</td>\n",
                            "      <td>80</td>\n",
                            "      <td>169534</td>\n",
                            "    </tr>\n",
                            "    <tr>\n",
                            "      <th>4</th>\n",
                            "      <td>Time</td>\n",
                            "      <td>78</td>\n",
                            "      <td>413947</td>\n",
                            "    </tr>\n",
                            "    <tr>\n",
                            "      <th>5</th>\n",
                            "      <td>Money</td>\n",
                            "      <td>78</td>\n",
                            "      <td>382834</td>\n",
                            "    </tr>\n",
                            "    <tr>\n",
                            "      <th>6</th>\n",
                            "      <td>The Great Gig in the Sky</td>\n",
                            "      <td>77</td>\n",
                            "      <td>283872</td>\n",
                            "    </tr>\n",
                            "    <tr>\n",
                            "      <th>7</th>\n",
                            "      <td>Hey You</td>\n",
                            "      <td>76</td>\n",
                            "      <td>278440</td>\n",
                            "    </tr>\n",
                            "    <tr>\n",
                            "      <th>8</th>\n",
                            "      <td>Have a Cigar</td>\n",
                            "      <td>75</td>\n",
                            "      <td>307733</td>\n",
                            "    </tr>\n",
                            "    <tr>\n",
                            "      <th>9</th>\n",
                            "      <td>Young Lust</td>\n",
                            "      <td>75</td>\n",
                            "      <td>209956</td>\n",
                            "    </tr>\n",
                            "  </tbody>\n",
                            "</table>\n",
                            "</div>"
                        ],
                        "text/plain": [
                            "                              track  popularity  duration-ms\n",
                            "0  Another Brick in the Wall, Pt. 2          84       238746\n",
                            "1                Wish You Were Here          84       334743\n",
                            "2                  Comfortably Numb          82       382296\n",
                            "3              Breathe (In the Air)          80       169534\n",
                            "4                              Time          78       413947\n",
                            "5                             Money          78       382834\n",
                            "6          The Great Gig in the Sky          77       283872\n",
                            "7                           Hey You          76       278440\n",
                            "8                      Have a Cigar          75       307733\n",
                            "9                        Young Lust          75       209956"
                        ]
                    },
                    "execution_count": 5,
                    "metadata": {},
                    "output_type": "execute_result"
                }
            ],
            "source": [
                "results = spotify.artist_top_tracks('spotify:artist:0k17h0D3J5VfsdmQ1iZtE9')\n",
                "data=[]\n",
                "for track in results['tracks'][:10]:\n",
                "    data.append({'track': track['name'],\n",
                "           'popularity': track['popularity'],\n",
                "           'duration-ms': track['duration_ms']\n",
                "           })\n",
                "data\n",
                "df_tracks=pd.DataFrame(data)\n",
                "df_tracks"
            ]
        },
        {
            "cell_type": "markdown",
            "metadata": {},
            "source": [
                "## Análisis de los datos obtenidos"
            ]
        },
        {
            "cell_type": "code",
            "execution_count": 6,
            "metadata": {},
            "outputs": [
                {
                    "data": {
                        "image/png": "[encoded data removed]",
                        "text/plain": [
                            "<Figure size 640x480 with 1 Axes>"
                        ]
                    },
                    "metadata": {},
                    "output_type": "display_data"
                }
            ],
            "source": [
                "sns.scatterplot(df_tracks,x='duration-ms',y='popularity')\n",
                "plt.grid()\n",
                "plt.show()"
            ]
        },
        {
            "cell_type": "markdown",
            "metadata": {},
            "source": [
                "## Conclusiones:\n",
                "### No puedo afirmar que haya una relación directa entre popularidad y duración. Si observamos la gráfica, la canción más popular y una de las menos populares tienen casi la misma duración, esto arroja a priori que la popularidad del grupo tiene que ver con algo que va más alla que el tiempo que dura la canción"
            ]
        }
    ],
    "metadata": {
        "kernelspec": {
            "display_name": "Python 3",
            "language": "python",
            "name": "python3"
        },
        "language_info": {
            "codemirror_mode": {
                "name": "ipython",
                "version": 3
            },
            "file_extension": ".py",
            "mimetype": "text/x-python",
            "name": "python",
            "nbconvert_exporter": "python",
            "pygments_lexer": "ipython3",
            "version": "3.11.4"
        },
        "orig_nbformat": 4
    },
    "nbformat": 4,
    "nbformat_minor": 2
}
